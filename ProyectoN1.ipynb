{
  "nbformat": 4,
  "nbformat_minor": 0,
  "metadata": {
    "colab": {
      "provenance": [],
      "authorship_tag": "ABX9TyPRO4YxpmoKmOgjGH/pUwaV",
      "include_colab_link": true
    },
    "kernelspec": {
      "name": "python3",
      "display_name": "Python 3"
    },
    "language_info": {
      "name": "python"
    }
  },
  "cells": [
    {
      "cell_type": "markdown",
      "metadata": {
        "id": "view-in-github",
        "colab_type": "text"
      },
      "source": [
        "<a href=\"https://colab.research.google.com/github/DiazJaja/Python-ProyectosPersonales/blob/main/ProyectoN1.ipynb\" target=\"_parent\"><img src=\"https://colab.research.google.com/assets/colab-badge.svg\" alt=\"Open In Colab\"/></a>"
      ]
    },
    {
      "cell_type": "markdown",
      "source": [
        "Curso de python desde 0"
      ],
      "metadata": {
        "id": "b3M23KRpcQRp"
      }
    },
    {
      "cell_type": "markdown",
      "source": [
        "Variables de python:"
      ],
      "metadata": {
        "id": "HUUY-Uz4QWXv"
      }
    },
    {
      "cell_type": "code",
      "execution_count": 2,
      "metadata": {
        "colab": {
          "base_uri": "https://localhost:8080/"
        },
        "id": "WzXtgr6ubxo_",
        "outputId": "cb46df73-0c0b-4767-f7fe-69cd17eee554"
      },
      "outputs": [
        {
          "output_type": "stream",
          "name": "stdout",
          "text": [
            "Esto es una suma\n",
            "40\n"
          ]
        }
      ],
      "source": [
        "print (\"Esto es una suma\")\n",
        "\n",
        "num1 = 10\n",
        "num2 = 30\n",
        "\n",
        "resultado = num1 + num2\n",
        "\n",
        "print (resultado)"
      ]
    },
    {
      "cell_type": "markdown",
      "source": [
        "Manipulacion de cadenas:"
      ],
      "metadata": {
        "id": "OgKIcf4VRatt"
      }
    },
    {
      "cell_type": "markdown",
      "source": [
        "\n",
        "\n",
        "*   Asignacion\n",
        "\n",
        "\n"
      ],
      "metadata": {
        "id": "1PdHSm2PRv_D"
      }
    },
    {
      "cell_type": "code",
      "source": [
        "mensaje = \"Hola\"\n",
        "\n",
        "mensaje += \" \"\n",
        "mensaje += \"Mundo\"\n",
        "\n",
        "print (mensaje)"
      ],
      "metadata": {
        "colab": {
          "base_uri": "https://localhost:8080/"
        },
        "id": "VedvEkb4R2Ma",
        "outputId": "db30b2ad-60f3-47e0-d9a9-0166229cb2d5"
      },
      "execution_count": 7,
      "outputs": [
        {
          "output_type": "stream",
          "name": "stdout",
          "text": [
            "Hola Mundo\n"
          ]
        }
      ]
    },
    {
      "cell_type": "markdown",
      "source": [
        "\n",
        "\n",
        "*   La concatenacion\n",
        "\n"
      ],
      "metadata": {
        "id": "jCijvO5fS8qb"
      }
    },
    {
      "cell_type": "code",
      "source": [
        "mensaje = \"Hola\"\n",
        "\n",
        "espacio = \" \"\n",
        "nombre = \"Juan\"\n",
        "\n",
        "print (mensaje + espacio + nombre)"
      ],
      "metadata": {
        "colab": {
          "base_uri": "https://localhost:8080/"
        },
        "id": "TFro93o2TB1j",
        "outputId": "20237745-8dcb-4bda-e849-c67054745c98"
      },
      "execution_count": 8,
      "outputs": [
        {
          "output_type": "stream",
          "name": "stdout",
          "text": [
            "Hola Juan\n"
          ]
        }
      ]
    },
    {
      "cell_type": "markdown",
      "source": [
        "Con valores numericos:"
      ],
      "metadata": {
        "id": "9mCu0G4aUVvd"
      }
    },
    {
      "cell_type": "code",
      "source": [
        "numero1 = 4\n",
        "numero2 = 2\n",
        "\n",
        "resultado = numero1 + numero2\n",
        "resultado = str(resultado)\n",
        "\n",
        "print (\"El resultado de la suma es: \" + resultado)"
      ],
      "metadata": {
        "colab": {
          "base_uri": "https://localhost:8080/"
        },
        "id": "gQRJQY1-UABG",
        "outputId": "98fedb93-8546-429e-8062-4c0b4279dea4"
      },
      "execution_count": 17,
      "outputs": [
        {
          "output_type": "stream",
          "name": "stdout",
          "text": [
            "El resultado de la suma es: 6\n"
          ]
        }
      ]
    },
    {
      "cell_type": "markdown",
      "source": [
        "\n",
        "\n",
        "*   La busqueda:\n",
        "\n"
      ],
      "metadata": {
        "id": "ezeiUIL7TiEK"
      }
    },
    {
      "cell_type": "code",
      "source": [
        "mensaje = \"Hola Juan\"\n",
        "\n",
        "buscar_subcadena = mensaje.find(\"Juan\")\n",
        "\n",
        "print (buscar_subcadena)"
      ],
      "metadata": {
        "colab": {
          "base_uri": "https://localhost:8080/"
        },
        "id": "q-7YyhLzVOlB",
        "outputId": "85575e7f-041a-49a2-ce4f-5e4abff7ab39"
      },
      "execution_count": 18,
      "outputs": [
        {
          "output_type": "stream",
          "name": "stdout",
          "text": [
            "5\n"
          ]
        }
      ]
    },
    {
      "cell_type": "markdown",
      "source": [
        "\n",
        "\n",
        "*   La extraccion:\n"
      ],
      "metadata": {
        "id": "T2BttOt3Weei"
      }
    },
    {
      "cell_type": "code",
      "source": [
        "mensaje = \"Hola Juan\"\n",
        "\n",
        "extraer_subcadena = mensaje[1:8]\n",
        "\n",
        "print (extraer_subcadena)"
      ],
      "metadata": {
        "colab": {
          "base_uri": "https://localhost:8080/"
        },
        "id": "malWVESxWmvL",
        "outputId": "9b876c87-1b27-4079-ae52-f34a4f91dd8f"
      },
      "execution_count": 19,
      "outputs": [
        {
          "output_type": "stream",
          "name": "stdout",
          "text": [
            "ola Jua\n"
          ]
        }
      ]
    },
    {
      "cell_type": "markdown",
      "source": [
        "\n",
        "\n",
        "*   La comparacion\n",
        "\n"
      ],
      "metadata": {
        "id": "bsjhvYNWXnJm"
      }
    },
    {
      "cell_type": "code",
      "source": [
        "mensaje1 = \"Hola\"\n",
        "mensaje2 = \"Hola\"\n",
        "\n",
        "print (mensaje1 == mensaje2)"
      ],
      "metadata": {
        "colab": {
          "base_uri": "https://localhost:8080/"
        },
        "id": "n7qvKLPYXs2E",
        "outputId": "8083994f-a997-479e-bc0a-8dd4b81fcbce"
      },
      "execution_count": 23,
      "outputs": [
        {
          "output_type": "stream",
          "name": "stdout",
          "text": [
            "True\n"
          ]
        }
      ]
    }
  ]
}