{
  "nbformat": 4,
  "nbformat_minor": 0,
  "metadata": {
    "colab": {
      "provenance": [],
      "authorship_tag": "ABX9TyN73dEJP9nOUZ5QZR6Zr436",
      "include_colab_link": true
    },
    "kernelspec": {
      "name": "python3",
      "display_name": "Python 3"
    },
    "language_info": {
      "name": "python"
    }
  },
  "cells": [
    {
      "cell_type": "markdown",
      "metadata": {
        "id": "view-in-github",
        "colab_type": "text"
      },
      "source": [
        "<a href=\"https://colab.research.google.com/github/DiazJaja/Python-ProyectosPersonales/blob/main/ProyectoN1.ipynb\" target=\"_parent\"><img src=\"https://colab.research.google.com/assets/colab-badge.svg\" alt=\"Open In Colab\"/></a>"
      ]
    },
    {
      "cell_type": "markdown",
      "source": [
        "Python - Proyecto N1"
      ],
      "metadata": {
        "id": "b3M23KRpcQRp"
      }
    },
    {
      "cell_type": "code",
      "execution_count": 7,
      "metadata": {
        "colab": {
          "base_uri": "https://localhost:8080/"
        },
        "id": "WzXtgr6ubxo_",
        "outputId": "7a636301-ce95-4c87-edbf-b1c41f7d8cda"
      },
      "outputs": [
        {
          "output_type": "stream",
          "name": "stdout",
          "text": [
            "Esto es una suma\n",
            "40\n"
          ]
        }
      ],
      "source": [
        "print (\"Esto es una suma\")\n",
        "\n",
        "num1 = 10\n",
        "num2 = 30\n",
        "\n",
        "resultado = num1 + num2\n",
        "\n",
        "print (resultado)"
      ]
    }
  ]
}
